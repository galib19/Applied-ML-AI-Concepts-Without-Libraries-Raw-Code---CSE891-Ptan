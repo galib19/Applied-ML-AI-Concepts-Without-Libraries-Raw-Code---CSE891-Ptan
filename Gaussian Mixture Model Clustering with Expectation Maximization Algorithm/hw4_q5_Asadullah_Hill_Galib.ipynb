{
 "cells": [
  {
   "cell_type": "markdown",
   "metadata": {},
   "source": [
    "## Homework 4 (Question 5)\n",
    "\n",
    "For this question, you will write a function for applying Gaussian mixture model clustering to an input dataset. Note that you must write your own functions to perform the clustering and avoid using GaussianMixture() or any other functions provided by scikit-learn. The functions you may use are listed below:\n",
    "\n",
    "- numpy functions for creating and manipulating ndarrays (sum(), reshape(), concatenate(), argmax(), eye(), zeros())\n",
    "- pandas library for loading, displaying, and plotting the data (read_csv() and head()).\n",
    "- matplotlib library for plotting\n",
    "- scipy multivariate_normal() to compute the density function for normal (Gaussian) distribution.\n",
    "\n",
    "If you're unsure whether you can use some function, please email the instructor."
   ]
  },
  {
   "cell_type": "markdown",
   "metadata": {},
   "source": [
    "**Step 1:** Download the file *data.txt* from D2L and load it to a pandas object named data. The dataset contains 30 data points. The first 10 points belong to cluster 0, the next 10 points belong to cluster 1, and the last 30 points belong to cluster 2. Display the first 5 lines of the file."
   ]
  },
  {
   "cell_type": "code",
   "execution_count": 170,
   "metadata": {},
   "outputs": [
    {
     "data": {
      "text/html": [
       "<div>\n",
       "<style scoped>\n",
       "    .dataframe tbody tr th:only-of-type {\n",
       "        vertical-align: middle;\n",
       "    }\n",
       "\n",
       "    .dataframe tbody tr th {\n",
       "        vertical-align: top;\n",
       "    }\n",
       "\n",
       "    .dataframe thead th {\n",
       "        text-align: right;\n",
       "    }\n",
       "</style>\n",
       "<table border=\"1\" class=\"dataframe\">\n",
       "  <thead>\n",
       "    <tr style=\"text-align: right;\">\n",
       "      <th></th>\n",
       "      <th>0</th>\n",
       "      <th>1</th>\n",
       "    </tr>\n",
       "  </thead>\n",
       "  <tbody>\n",
       "    <tr>\n",
       "      <th>0</th>\n",
       "      <td>1.3510</td>\n",
       "      <td>5.3644</td>\n",
       "    </tr>\n",
       "    <tr>\n",
       "      <th>1</th>\n",
       "      <td>3.1812</td>\n",
       "      <td>8.8795</td>\n",
       "    </tr>\n",
       "    <tr>\n",
       "      <th>2</th>\n",
       "      <td>1.2415</td>\n",
       "      <td>4.3369</td>\n",
       "    </tr>\n",
       "    <tr>\n",
       "      <th>3</th>\n",
       "      <td>0.8904</td>\n",
       "      <td>7.6155</td>\n",
       "    </tr>\n",
       "    <tr>\n",
       "      <th>4</th>\n",
       "      <td>1.1544</td>\n",
       "      <td>6.1375</td>\n",
       "    </tr>\n",
       "  </tbody>\n",
       "</table>\n",
       "</div>"
      ],
      "text/plain": [
       "        0       1\n",
       "0  1.3510  5.3644\n",
       "1  3.1812  8.8795\n",
       "2  1.2415  4.3369\n",
       "3  0.8904  7.6155\n",
       "4  1.1544  6.1375"
      ]
     },
     "execution_count": 170,
     "metadata": {},
     "output_type": "execute_result"
    }
   ],
   "source": [
    "import pandas as pd\n",
    "import numpy as np\n",
    "\n",
    "data = pd.read_csv( \"data.txt\" , header= None , delimiter= \" \" )\n",
    "labels = np.concatenate((np.zeros((10,)), np.ones((10,)), 2*np.ones((10,))), axis=0).astype(int)\n",
    "data.head()"
   ]
  },
  {
   "cell_type": "markdown",
   "metadata": {},
   "source": [
    "**Step 2:** Display the ground truth clusters of the 30 data points. The display() function takes 3 input arguments: the input data (as numpy array), the cluster labels, and a string for the title of the plot. Use plt.scatter() to draw the points. Fill in the missing portion in the display() function and on the last line of the cell below."
   ]
  },
  {
   "cell_type": "code",
   "execution_count": 171,
   "metadata": {},
   "outputs": [
    {
     "data": {
      "image/png": "[encoded data removed]",
      "text/plain": [
       "<Figure size 432x288 with 1 Axes>"
      ]
     },
     "metadata": {
      "needs_background": "light"
     },
     "output_type": "display_data"
    }
   ],
   "source": [
    "import matplotlib.pyplot as plt\n",
    "import numpy as np\n",
    "\n",
    "def display(data, labels, titlestr):\n",
    "    for i in range(data.shape[0]):\n",
    "        if labels[i] == 0:\n",
    "            plt.scatter(  data[0][i], data[1][i] ,c='b',s=60,marker='+')\n",
    "        elif labels[i] == 1:\n",
    "            plt.scatter(  data[0][i], data[1][i] ,c='r',s=60,marker='o')\n",
    "        else:\n",
    "            plt.scatter( data[0][i], data[1][i] ,c='k',s=60,marker='v')\n",
    "    plt.title(titlestr)\n",
    "            \n",
    "display(  data  , labels, 'Ground truth clusters')"
   ]
  },
  {
   "cell_type": "markdown",
   "metadata": {},
   "source": [
    "**Step 3:** Write an implementation of the Gaussian mixture model clustering function using the Expectation Maximization (EM) algorithm.  The function takes as input the following input arguments: (1) data (input data as 2-dimensional ndarray) (2) mu (initial mean vectors for the 3 clusters) (3) sigma (initial covariance matrices for the 3 clusters), (4) pi (prior cluster probability), (5) maxiter (maximum number of iterations), and (6) verbose (a Boolean flag to display intermediate results). For the given input data (a matrix of size 30 x 2), since we need to partition it into 3 clusters, the mean vector is a 3 x 2 matrix, Sigma is an array that contains 3 covariance matrices, each of size 2 x 2, and pi is a 3-dimensional ndarray.  \n",
    "\n",
    "The pseudocode of the EM algorithm is as follows:\n",
    "- Let $X$ be the input data\n",
    "- Initialize $\\mu$: mean vector, $\\Sigma$: covariance, $\\pi$: cluster prior probability.\n",
    "- Initialize w to be a matrix of size 30 x 3 (where the rows correspond to\n",
    "- for i = 1 to maxiter do\n",
    "    - #### Expectation Step ####\n",
    "        - Update $w$ as follows: $w_{ij} = \\frac{\\pi_j N(x_i | \\mu_j, \\Sigma_j)}{\\sum_{k=1}^3 \\pi_k N(x_i | \\mu_k, \\Sigma_k)}$ (**Note:** use scipy.stats.multivariate_normal to compute $N(x_i | \\mu_k, \\Sigma_k)$)\n",
    "    - #### Maximization Step. \n",
    "        Make sure you update the parameters in the order shown below (with $N = 30$):\n",
    "        - Update the covariance matrix for each cluster $j$ as follows: $\\Sigma_j = \\frac{\\sum_{i=1}^{N} w_{ij} (x_i-\\mu_j)(x_i - \\mu_j)^T}{\\sum_{i=1}^{N} w_{ij}}$\n",
    "        - Update the mean vector for each cluster $j$ as follows: $\\mu_j = \\frac{\\sum_{i=1}^{N} w_{ij} x_i}{\\sum_{i=1}^{N} w_{ij}}$\n",
    "        - Update the prior probability for cluster $j$ as follows: $\\pi_j = \\frac{\\sum_{i=1}^{N} w_{ij}}{N}$\n",
    "- end\n",
    "- for $i$ = 1 to $N$ do\n",
    "    - cluster($i$) = $\\arg\\max_j w_{ij}$ (column index $j$ with largest $w_{ij}$ value)\n",
    "- end"
   ]
  },
  {
   "cell_type": "code",
   "execution_count": 172,
   "metadata": {},
   "outputs": [],
   "source": [
    "from scipy.stats import multivariate_normal\n",
    "\n",
    "def gmm(data, mu, sigma, pi, maxiter, verbose=False):\n",
    "    \n",
    "    data = np.asarray(data) \n",
    "\n",
    "    n_points = len(data)\n",
    "    n_cols = data.shape[1]\n",
    "    n_components = 3\n",
    "    \n",
    "    w = np.zeros((n_points,n_components))  # Initialize w as a matrix of size (#points, #clusters)\n",
    "    \n",
    "    for i in range(maxiter):\n",
    "        \n",
    "        # Expectation Step - update w\n",
    "        for j in range(n_points):\n",
    "            for k in range(n_components):\n",
    "                w[j, k] = pi[k]*multivariate_normal.pdf(data[j],mu[k],sigma[k])\n",
    "        w_sums = w.sum(axis=1)[:, np.newaxis]\n",
    "        w = w / w_sums \n",
    "        \n",
    "        # Maximization Step - update mu, sigma, pi\n",
    "        counts = np.sum(w, axis=0)\n",
    "        \n",
    "        for k in range(n_components):\n",
    "            \n",
    "            # sigma calculation: \n",
    "            \n",
    "            weighted_sum = np.zeros((n_cols, n_cols))\n",
    "            for j in range(n_points):\n",
    "                weighted_sum += (w[j,k]*np.outer(data[j]-mu[k],data[j]-mu[k]))\n",
    "            sigma[k] = weighted_sum/counts[k]\n",
    "            \n",
    "            # prior probability (pi) calculation:\n",
    "            \n",
    "            pi[k] = counts[k]/n_points\n",
    "            \n",
    "            # means (mu) calculation: \n",
    "            \n",
    "            weighted_sum = 0\n",
    "            for j in range(n_points):\n",
    "                weighted_sum += (w[j,k]*data[j])\n",
    "            mu[k] = weighted_sum/counts[k]\n",
    "            \n",
    "        # Code to display intermediate results \n",
    "        if verbose:\n",
    "            print('\\nIteration %d' % (i))\n",
    "            print('pi: ', pi)\n",
    "            print('mu:', mu)\n",
    "            print('sigma:', sigma)\n",
    "            \n",
    "    for i in range(n_points):\n",
    "        clusters = np.argmax(w, axis=1)\n",
    "    \n",
    "    return (clusters, w, mu, sigma, pi) "
   ]
  },
  {
   "cell_type": "markdown",
   "metadata": {},
   "source": [
    "**Step 4:** Run the program using the initial values provided. Set maxiter to be 3 and verbose flag to be True. Display the clustering results."
   ]
  },
  {
   "cell_type": "code",
   "execution_count": 173,
   "metadata": {},
   "outputs": [
    {
     "name": "stdout",
     "output_type": "stream",
     "text": [
      "\n",
      "Iteration 0\n",
      "pi:  [0.25571064 0.44911935 0.29517   ]\n",
      "mu: [[3.09410702 1.59473002]\n",
      " [3.44791143 5.75460918]\n",
      " [8.14084579 8.34574711]]\n",
      "sigma: [array([[ 5.73778356, -0.29612627],\n",
      "       [-0.29612627,  3.07859535]]), array([[ 7.18152409, -4.06538969],\n",
      "       [-4.06538969,  8.55754384]]), array([[4.17368503, 3.20265406],\n",
      "       [3.20265406, 3.04193426]])]\n",
      "\n",
      "Iteration 1\n",
      "pi:  [0.26823105 0.40730466 0.32446429]\n",
      "mu: [[3.82789199 1.59432001]\n",
      " [2.72859708 5.72835537]\n",
      " [8.02715005 8.30562291]]\n",
      "sigma: [array([[ 2.59788441, -0.70169641],\n",
      "       [-0.70169641,  2.24237682]]), array([[ 3.82370087, -2.29039861],\n",
      "       [-2.29039861,  8.14012138]]), array([[0.88003069, 0.20149589],\n",
      "       [0.20149589, 0.34137241]])]\n",
      "\n",
      "Iteration 2\n",
      "pi:  [0.27993541 0.38733347 0.33273112]\n",
      "mu: [[4.12697372 1.51398871]\n",
      " [2.37029795 5.85057156]\n",
      " [8.02230804 8.31232373]]\n",
      "sigma: [array([[ 2.08726656, -0.27351185],\n",
      "       [-0.27351185,  1.68923564]]), array([[ 2.3916856 , -1.87736399],\n",
      "       [-1.87736399,  7.7569511 ]]), array([[0.77090582, 0.12739337],\n",
      "       [0.12739337, 0.2920625 ]])]\n"
     ]
    },
    {
     "data": {
      "image/png": "[encoded data removed]",
      "text/plain": [
       "<Figure size 432x288 with 1 Axes>"
      ]
     },
     "metadata": {
      "needs_background": "light"
     },
     "output_type": "display_data"
    }
   ],
   "source": [
    "mu = np.array([[1.0,1.0],[5.0,5.0],[10.0,10.0]])\n",
    "sigma = [np.eye(2),np.eye(2), np.eye(2)]\n",
    "pi = np.array([1/3, 1/3, 1/3])\n",
    "clusters, w, mu2, sigma2, pi2 = gmm(data, mu, sigma, pi, maxiter =3, verbose = True)\n",
    "display( data  , clusters, 'Predicted clusters')"
   ]
  },
  {
   "cell_type": "markdown",
   "metadata": {},
   "source": [
    "**Step 5:** For comparison purpose, the following is the result of Gaussian mixture model clustering using scikit-learn."
   ]
  },
  {
   "cell_type": "code",
   "execution_count": 179,
   "metadata": {},
   "outputs": [
    {
     "data": {
      "image/png": "[encoded data removed]",
      "text/plain": [
       "<Figure size 432x288 with 1 Axes>"
      ]
     },
     "metadata": {
      "needs_background": "light"
     },
     "output_type": "display_data"
    }
   ],
   "source": [
    "from sklearn import mixture\n",
    "\n",
    "gmm = mixture.GaussianMixture(n_components=3, covariance_type='full').fit(data.values)\n",
    "clusters = gmm.predict(data.values)\n",
    "display( data , clusters, 'Sklearn GMM clusters')"
   ]
  },
  {
   "cell_type": "code",
   "execution_count": null,
   "metadata": {},
   "outputs": [],
   "source": []
  }
 ],
 "metadata": {
  "kernelspec": {
   "display_name": "Python 3",
   "language": "python",
   "name": "python3"
  },
  "language_info": {
   "codemirror_mode": {
    "name": "ipython",
    "version": 3
   },
   "file_extension": ".py",
   "mimetype": "text/x-python",
   "name": "python",
   "nbconvert_exporter": "python",
   "pygments_lexer": "ipython3",
   "version": "3.8.3"
  }
 },
 "nbformat": 4,
 "nbformat_minor": 2
}
