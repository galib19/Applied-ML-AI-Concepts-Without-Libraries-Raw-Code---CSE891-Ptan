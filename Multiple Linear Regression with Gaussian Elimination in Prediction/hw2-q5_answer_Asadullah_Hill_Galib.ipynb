{
 "cells": [
  {
   "cell_type": "markdown",
   "metadata": {},
   "source": [
    "# Question 5 (Homework 2)  "
   ]
  },
  {
   "cell_type": "markdown",
   "metadata": {},
   "source": [
    "### Predicting number of COVID-19 cases in Ingham County, Michigan Using Multiple Linear Regression\n",
    "\n",
    "For this problem, we are interested to predict the number of new coronavirus cases on a given day in Ingham county based on the number of cases in its previous 5 days. We will use the dataset obtained from https://www.michigan.gov/coronavirus/0,9753,7-406-98163_98173---,00.html (similar to lectures 2 and 4)."
   ]
  },
  {
   "cell_type": "markdown",
   "metadata": {},
   "source": [
    "**Step 1:** Load the input data and select only the rows for confirmed cases in Ingham county."
   ]
  },
  {
   "cell_type": "code",
   "execution_count": 1,
   "metadata": {},
   "outputs": [
    {
     "name": "stdout",
     "output_type": "stream",
     "text": [
      "(187, 8)\n"
     ]
    },
    {
     "data": {
      "text/html": [
       "<div>\n",
       "<style scoped>\n",
       "    .dataframe tbody tr th:only-of-type {\n",
       "        vertical-align: middle;\n",
       "    }\n",
       "\n",
       "    .dataframe tbody tr th {\n",
       "        vertical-align: top;\n",
       "    }\n",
       "\n",
       "    .dataframe thead th {\n",
       "        text-align: right;\n",
       "    }\n",
       "</style>\n",
       "<table border=\"1\" class=\"dataframe\">\n",
       "  <thead>\n",
       "    <tr style=\"text-align: right;\">\n",
       "      <th></th>\n",
       "      <th>COUNTY</th>\n",
       "      <th>Date</th>\n",
       "      <th>CASE_STATUS</th>\n",
       "      <th>Cases</th>\n",
       "      <th>Deaths</th>\n",
       "      <th>Cases.Cumulative</th>\n",
       "      <th>Deaths.Cumulative</th>\n",
       "      <th>Updated</th>\n",
       "    </tr>\n",
       "  </thead>\n",
       "  <tbody>\n",
       "    <tr>\n",
       "      <th>6358</th>\n",
       "      <td>Ingham</td>\n",
       "      <td>3/1/2020</td>\n",
       "      <td>Confirmed</td>\n",
       "      <td>0</td>\n",
       "      <td>0</td>\n",
       "      <td>0</td>\n",
       "      <td>0</td>\n",
       "      <td>2020/09/03 14:15:23</td>\n",
       "    </tr>\n",
       "    <tr>\n",
       "      <th>6359</th>\n",
       "      <td>Ingham</td>\n",
       "      <td>3/2/2020</td>\n",
       "      <td>Confirmed</td>\n",
       "      <td>1</td>\n",
       "      <td>0</td>\n",
       "      <td>1</td>\n",
       "      <td>0</td>\n",
       "      <td>2020/09/03 14:15:23</td>\n",
       "    </tr>\n",
       "    <tr>\n",
       "      <th>6360</th>\n",
       "      <td>Ingham</td>\n",
       "      <td>3/3/2020</td>\n",
       "      <td>Confirmed</td>\n",
       "      <td>1</td>\n",
       "      <td>0</td>\n",
       "      <td>2</td>\n",
       "      <td>0</td>\n",
       "      <td>2020/09/03 14:15:23</td>\n",
       "    </tr>\n",
       "    <tr>\n",
       "      <th>6361</th>\n",
       "      <td>Ingham</td>\n",
       "      <td>3/4/2020</td>\n",
       "      <td>Confirmed</td>\n",
       "      <td>1</td>\n",
       "      <td>0</td>\n",
       "      <td>3</td>\n",
       "      <td>0</td>\n",
       "      <td>2020/09/03 14:15:23</td>\n",
       "    </tr>\n",
       "    <tr>\n",
       "      <th>6362</th>\n",
       "      <td>Ingham</td>\n",
       "      <td>3/5/2020</td>\n",
       "      <td>Confirmed</td>\n",
       "      <td>0</td>\n",
       "      <td>0</td>\n",
       "      <td>3</td>\n",
       "      <td>0</td>\n",
       "      <td>2020/09/03 14:15:23</td>\n",
       "    </tr>\n",
       "    <tr>\n",
       "      <th>6363</th>\n",
       "      <td>Ingham</td>\n",
       "      <td>3/6/2020</td>\n",
       "      <td>Confirmed</td>\n",
       "      <td>0</td>\n",
       "      <td>0</td>\n",
       "      <td>3</td>\n",
       "      <td>0</td>\n",
       "      <td>2020/09/03 14:15:23</td>\n",
       "    </tr>\n",
       "    <tr>\n",
       "      <th>6364</th>\n",
       "      <td>Ingham</td>\n",
       "      <td>3/7/2020</td>\n",
       "      <td>Confirmed</td>\n",
       "      <td>0</td>\n",
       "      <td>0</td>\n",
       "      <td>3</td>\n",
       "      <td>0</td>\n",
       "      <td>2020/09/03 14:15:23</td>\n",
       "    </tr>\n",
       "    <tr>\n",
       "      <th>6365</th>\n",
       "      <td>Ingham</td>\n",
       "      <td>3/8/2020</td>\n",
       "      <td>Confirmed</td>\n",
       "      <td>1</td>\n",
       "      <td>0</td>\n",
       "      <td>4</td>\n",
       "      <td>0</td>\n",
       "      <td>2020/09/03 14:15:23</td>\n",
       "    </tr>\n",
       "    <tr>\n",
       "      <th>6366</th>\n",
       "      <td>Ingham</td>\n",
       "      <td>3/9/2020</td>\n",
       "      <td>Confirmed</td>\n",
       "      <td>1</td>\n",
       "      <td>0</td>\n",
       "      <td>5</td>\n",
       "      <td>0</td>\n",
       "      <td>2020/09/03 14:15:23</td>\n",
       "    </tr>\n",
       "    <tr>\n",
       "      <th>6367</th>\n",
       "      <td>Ingham</td>\n",
       "      <td>3/10/2020</td>\n",
       "      <td>Confirmed</td>\n",
       "      <td>3</td>\n",
       "      <td>0</td>\n",
       "      <td>8</td>\n",
       "      <td>0</td>\n",
       "      <td>2020/09/03 14:15:23</td>\n",
       "    </tr>\n",
       "  </tbody>\n",
       "</table>\n",
       "</div>"
      ],
      "text/plain": [
       "      COUNTY       Date CASE_STATUS  Cases  Deaths  Cases.Cumulative  \\\n",
       "6358  Ingham   3/1/2020   Confirmed      0       0                 0   \n",
       "6359  Ingham   3/2/2020   Confirmed      1       0                 1   \n",
       "6360  Ingham   3/3/2020   Confirmed      1       0                 2   \n",
       "6361  Ingham   3/4/2020   Confirmed      1       0                 3   \n",
       "6362  Ingham   3/5/2020   Confirmed      0       0                 3   \n",
       "6363  Ingham   3/6/2020   Confirmed      0       0                 3   \n",
       "6364  Ingham   3/7/2020   Confirmed      0       0                 3   \n",
       "6365  Ingham   3/8/2020   Confirmed      1       0                 4   \n",
       "6366  Ingham   3/9/2020   Confirmed      1       0                 5   \n",
       "6367  Ingham  3/10/2020   Confirmed      3       0                 8   \n",
       "\n",
       "      Deaths.Cumulative              Updated  \n",
       "6358                  0  2020/09/03 14:15:23  \n",
       "6359                  0  2020/09/03 14:15:23  \n",
       "6360                  0  2020/09/03 14:15:23  \n",
       "6361                  0  2020/09/03 14:15:23  \n",
       "6362                  0  2020/09/03 14:15:23  \n",
       "6363                  0  2020/09/03 14:15:23  \n",
       "6364                  0  2020/09/03 14:15:23  \n",
       "6365                  0  2020/09/03 14:15:23  \n",
       "6366                  0  2020/09/03 14:15:23  \n",
       "6367                  0  2020/09/03 14:15:23  "
      ]
     },
     "execution_count": 1,
     "metadata": {},
     "output_type": "execute_result"
    }
   ],
   "source": [
    "import pandas as pd\n",
    "\n",
    "data = pd.read_csv('michigan.csv', header='infer')\n",
    "data = data[(data['COUNTY']=='Ingham') & (data['CASE_STATUS']=='Confirmed')]\n",
    "print(data.shape)\n",
    "data.head(10)"
   ]
  },
  {
   "cell_type": "markdown",
   "metadata": {},
   "source": [
    "**Step 2:** Feature extraction. Create the target attribute (i.e., number of covid-19 cases) and predictor attribute (i.e., number of cases for each of the 5 previous days)."
   ]
  },
  {
   "cell_type": "code",
   "execution_count": 2,
   "metadata": {},
   "outputs": [
    {
     "data": {
      "text/html": [
       "<div>\n",
       "<style scoped>\n",
       "    .dataframe tbody tr th:only-of-type {\n",
       "        vertical-align: middle;\n",
       "    }\n",
       "\n",
       "    .dataframe tbody tr th {\n",
       "        vertical-align: top;\n",
       "    }\n",
       "\n",
       "    .dataframe thead th {\n",
       "        text-align: right;\n",
       "    }\n",
       "</style>\n",
       "<table border=\"1\" class=\"dataframe\">\n",
       "  <thead>\n",
       "    <tr style=\"text-align: right;\">\n",
       "      <th></th>\n",
       "      <th>Date</th>\n",
       "      <th>t-1</th>\n",
       "      <th>t-2</th>\n",
       "      <th>t-3</th>\n",
       "      <th>t-4</th>\n",
       "      <th>t-5</th>\n",
       "      <th>Number of cases</th>\n",
       "    </tr>\n",
       "  </thead>\n",
       "  <tbody>\n",
       "    <tr>\n",
       "      <th>0</th>\n",
       "      <td>3/6/2020</td>\n",
       "      <td>0</td>\n",
       "      <td>1</td>\n",
       "      <td>1</td>\n",
       "      <td>1</td>\n",
       "      <td>0</td>\n",
       "      <td>0</td>\n",
       "    </tr>\n",
       "    <tr>\n",
       "      <th>1</th>\n",
       "      <td>3/7/2020</td>\n",
       "      <td>0</td>\n",
       "      <td>0</td>\n",
       "      <td>1</td>\n",
       "      <td>1</td>\n",
       "      <td>1</td>\n",
       "      <td>0</td>\n",
       "    </tr>\n",
       "    <tr>\n",
       "      <th>2</th>\n",
       "      <td>3/8/2020</td>\n",
       "      <td>0</td>\n",
       "      <td>0</td>\n",
       "      <td>0</td>\n",
       "      <td>1</td>\n",
       "      <td>1</td>\n",
       "      <td>1</td>\n",
       "    </tr>\n",
       "    <tr>\n",
       "      <th>3</th>\n",
       "      <td>3/9/2020</td>\n",
       "      <td>1</td>\n",
       "      <td>0</td>\n",
       "      <td>0</td>\n",
       "      <td>0</td>\n",
       "      <td>1</td>\n",
       "      <td>1</td>\n",
       "    </tr>\n",
       "    <tr>\n",
       "      <th>4</th>\n",
       "      <td>3/10/2020</td>\n",
       "      <td>1</td>\n",
       "      <td>1</td>\n",
       "      <td>0</td>\n",
       "      <td>0</td>\n",
       "      <td>0</td>\n",
       "      <td>3</td>\n",
       "    </tr>\n",
       "    <tr>\n",
       "      <th>...</th>\n",
       "      <td>...</td>\n",
       "      <td>...</td>\n",
       "      <td>...</td>\n",
       "      <td>...</td>\n",
       "      <td>...</td>\n",
       "      <td>...</td>\n",
       "      <td>...</td>\n",
       "    </tr>\n",
       "    <tr>\n",
       "      <th>177</th>\n",
       "      <td>8/30/2020</td>\n",
       "      <td>11</td>\n",
       "      <td>12</td>\n",
       "      <td>11</td>\n",
       "      <td>8</td>\n",
       "      <td>7</td>\n",
       "      <td>13</td>\n",
       "    </tr>\n",
       "    <tr>\n",
       "      <th>178</th>\n",
       "      <td>8/31/2020</td>\n",
       "      <td>13</td>\n",
       "      <td>11</td>\n",
       "      <td>12</td>\n",
       "      <td>11</td>\n",
       "      <td>8</td>\n",
       "      <td>15</td>\n",
       "    </tr>\n",
       "    <tr>\n",
       "      <th>179</th>\n",
       "      <td>9/1/2020</td>\n",
       "      <td>15</td>\n",
       "      <td>13</td>\n",
       "      <td>11</td>\n",
       "      <td>12</td>\n",
       "      <td>11</td>\n",
       "      <td>17</td>\n",
       "    </tr>\n",
       "    <tr>\n",
       "      <th>180</th>\n",
       "      <td>9/2/2020</td>\n",
       "      <td>17</td>\n",
       "      <td>15</td>\n",
       "      <td>13</td>\n",
       "      <td>11</td>\n",
       "      <td>12</td>\n",
       "      <td>4</td>\n",
       "    </tr>\n",
       "    <tr>\n",
       "      <th>181</th>\n",
       "      <td>9/3/2020</td>\n",
       "      <td>4</td>\n",
       "      <td>17</td>\n",
       "      <td>15</td>\n",
       "      <td>13</td>\n",
       "      <td>11</td>\n",
       "      <td>1</td>\n",
       "    </tr>\n",
       "  </tbody>\n",
       "</table>\n",
       "<p>182 rows × 7 columns</p>\n",
       "</div>"
      ],
      "text/plain": [
       "          Date t-1 t-2 t-3 t-4 t-5 Number of cases\n",
       "0     3/6/2020   0   1   1   1   0               0\n",
       "1     3/7/2020   0   0   1   1   1               0\n",
       "2     3/8/2020   0   0   0   1   1               1\n",
       "3     3/9/2020   1   0   0   0   1               1\n",
       "4    3/10/2020   1   1   0   0   0               3\n",
       "..         ...  ..  ..  ..  ..  ..             ...\n",
       "177  8/30/2020  11  12  11   8   7              13\n",
       "178  8/31/2020  13  11  12  11   8              15\n",
       "179   9/1/2020  15  13  11  12  11              17\n",
       "180   9/2/2020  17  15  13  11  12               4\n",
       "181   9/3/2020   4  17  15  13  11               1\n",
       "\n",
       "[182 rows x 7 columns]"
      ]
     },
     "execution_count": 2,
     "metadata": {},
     "output_type": "execute_result"
    }
   ],
   "source": [
    "import numpy as np\n",
    "\n",
    "t = data['Date'].values\n",
    "y = data['Cases'].values\n",
    "N = y.shape[0]\n",
    "X = np.column_stack((y[4:N-1],y[3:N-2],y[2:N-3],y[1:N-4],y[:N-5]))\n",
    "y = y[5:]\n",
    "t = t[5:]\n",
    "data = pd.DataFrame(np.column_stack((t,X,y)),columns=['Date','t-1',\n",
    "                    't-2','t-3','t-4','t-5','Number of cases'])\n",
    "data"
   ]
  },
  {
   "cell_type": "markdown",
   "metadata": {},
   "source": [
    "**Step 3:** Divide the data into training and test sets.\n",
    "\n",
    "**Make sure you append a column of 1s** (as bias term) to the predictor attributes X before splitting the data into training and test sets. Use 67% (two-third) of the data for training and the remaining 33% (one-third) for testing. You should set the random_state parameter for train_test_split() function to 1."
   ]
  },
  {
   "cell_type": "code",
   "execution_count": 9,
   "metadata": {},
   "outputs": [
    {
     "name": "stdout",
     "output_type": "stream",
     "text": [
      "Training set size for predictors: (121, 6)\n",
      "Test set size for predictors: (61, 6)\n"
     ]
    }
   ],
   "source": [
    "from sklearn.model_selection import train_test_split\n",
    "\n",
    "N = X.shape[0]\n",
    "Xbias = np.column_stack((X,np.ones((N,1))))            # append a column of 1s to X\n",
    "X_train, X_test, Y_train, Y_test = train_test_split( Xbias, y, test_size=0.33, random_state=1 )  # use Xbias, Y_train as input\n",
    "print('Training set size for predictors:', X_train.shape)\n",
    "print('Test set size for predictors:', X_test.shape)"
   ]
  },
  {
   "cell_type": "markdown",
   "metadata": {},
   "source": [
    "**Step 4:** Apply multiple linear regression (MLR) to the training data. MLR will learn the regression coefficients $\\mathbf{w}$ by solving the following normal equation:\n",
    "$$\\mathbf{X}^T\\mathbf{X} \\mathbf{w} = \\mathbf{X}^T\\mathbf{y}$$\n",
    "By setting the matrix $\\mathbf{A} = \\mathbf{X}^T\\mathbf{X}$ and vector $\\mathbf{b} = \\mathbf{X}^T\\mathbf{y}$, we can use Gaussian elimination to solve $\\mathbf{Aw} = \\mathbf{b}$ for $\\mathbf{w}$.  "
   ]
  },
  {
   "cell_type": "markdown",
   "metadata": {},
   "source": [
    "**(a)** First, you need to write an implementation of Gaussian elimination. To do this, you will need to create 3 functions: gauss(), forward(), and backsubstitution(). You can use the pseudocode from lecture 6 to guide your implementation. You may use any numpy libraries to do matrix multiplication but not functions that return the solution for Gaussian elimination, forward elimination, or backsubstitution directly. The size of the arrays are small enough, so you do not have to worry about using for loops to implement the code. \n",
    "\n",
    "The function prototypes are described below:\n",
    "- The gauss() function takes a matrix $\\mathbf{A}$ and vector $\\mathbf{b}$ as input and returns the solution vector, $\\mathbf{w}$, for $\\mathbf{Aw} = \\mathbf{b}$.\n",
    "- The forward() function takes a matrix $\\mathbf{A}$ and vector $\\mathbf{b}$ as input and returns the upper triangular matrix $\\mathbf{U}$ and updated $\\mathbf{b}$ vector after performing the forward elimination step.\n",
    "- The backward() function takes the upper triangular matrix $\\mathbf{U}$ and updated $\\mathbf{b}$ vector as input and returns the solution vector $\\mathbf{w}$ after performing the back-substitution step. \n",
    "\n",
    "You may use the display() function to display the content of $\\mathbf{A}$ and $\\mathbf{b}$ during the forward elimination step."
   ]
  },
  {
   "cell_type": "code",
   "execution_count": 34,
   "metadata": {},
   "outputs": [],
   "source": [
    "import numpy as np\n",
    "\n",
    "def gauss(A,b):\n",
    "    print('Original data: A | b')\n",
    "    display(A,b)\n",
    "    U, b = forward( A,b )\n",
    "    print('After forward elimination: U | b')\n",
    "    display(U,b)\n",
    "    return backsubstitution( U,b )\n",
    "\n",
    "def forward(A,b):\n",
    "    \n",
    "    n = A.shape[0]\n",
    "    for row in range(0, n-1):\n",
    "        for i in range(row+1, n):\n",
    "            factor = A[i,row] / A[row,row]\n",
    "            for j in range(row, n):\n",
    "                A[i,j] = A[i,j] - factor * A[row,j]\n",
    "\n",
    "            b[i] = b[i] - factor * b[row]\n",
    "\n",
    "#         print('A = \\n%s and b = %s' % (A,b))\n",
    "    return A, b\n",
    "    \n",
    "    \n",
    "def backsubstitution(U, b):\n",
    "    \n",
    "    n = U.shape[0]\n",
    "    x = np.zeros((n,1))\n",
    "    x[n-1] = b[n-1] / U[n-1, n-1]\n",
    "    for row in range(n-2, -1, -1):\n",
    "        sums = b[row]\n",
    "        for j in range(row+1, n):\n",
    "            sums = sums - U[row,j] * x[j]\n",
    "        x[row] = sums / U[row,row]\n",
    "#     print('Gauss result is x = \\n %s' % x)\n",
    "    return x.flatten()\n",
    "    \n",
    "    \n",
    "def display(A, b):\n",
    "    n = len(A)\n",
    "    for i in range(0, n):\n",
    "        line = \"\"\n",
    "        for j in range(0, n):\n",
    "            line += str(A[i][j]) + \"  \"\n",
    "        line += \" | \" + str(b[i])\n",
    "        print(line)\n",
    "    print(\"\")"
   ]
  },
  {
   "cell_type": "markdown",
   "metadata": {},
   "source": [
    "**(b)** Write an implementation for mlr_train() and mlr_predict() functions and apply it to the normal equation to find the regression coefficients for multiple linear regression. The description of each function is given below:\n",
    "- mlr_train() takes as input the training data (X_train, Y_train) and returns the regression coefficient vector $\\mathbf{w}$ by solving $\\mathbf{Aw} = \\mathbf{b}$, where $\\mathbf{A} = \\mathbf{X}^T\\mathbf{X}$ and $\\mathbf{b} = \\mathbf{X}^T\\mathbf{y}$. It will call the gauss() function from part (a) to compute $\\mathbf{w}$.\n",
    "- mlr_test() takes as input the test data $\\mathbf{X}_{test}$ and the regression coefficient vector $\\mathbf{w}$ as input and returns the predicted values $\\mathbf{\\hat{y}} = \\mathbf{X}_{test} \\mathbf{w}$."
   ]
  },
  {
   "cell_type": "code",
   "execution_count": 35,
   "metadata": {},
   "outputs": [
    {
     "name": "stdout",
     "output_type": "stream",
     "text": [
      "Original data: A | b\n",
      "16154.0  13344.0  13566.0  12837.0  12659.0  1180.0   | 13407.0\n",
      "13344.0  14381.0  12820.0  13058.0  11899.0  1135.0   | 12469.0\n",
      "13566.0  12820.0  14662.0  12846.0  12452.0  1150.0   | 12034.0\n",
      "12837.0  13058.0  12846.0  15366.0  13014.0  1148.0   | 12189.0\n",
      "12659.0  11899.0  12452.0  13014.0  14694.0  1130.0   | 12111.0\n",
      "1180.0  1135.0  1150.0  1148.0  1130.0  121.0   | 1135.0\n",
      "\n",
      "After forward elimination: U | b\n",
      "16154.0  13344.0  13566.0  12837.0  12659.0  1180.0   | 13407.0\n",
      "0.0  3358.1984647765257  1613.8155255664242  2454.005447567166  1442.0422186455362  160.26185464900334   | 1394.1573604060923\n",
      "0.0  0.0  2493.8466701044376  886.2934528611747  1128.0853794636068  82.03001647718685   | 104.93250477092977\n",
      "0.0  0.0  0.0  3056.652432947213  1499.664362844083  64.03238152120525   | 478.8681511602944\n",
      "0.0  0.0  0.0  0.0  2908.5557568295158  67.9591970145077   | 723.5984702394975\n",
      "0.0  0.0  0.0  0.0  0.0  21.529043004038325   | 58.73692753704476\n",
      "\n",
      "Regression coefficients:  [ 0.37378487  0.26373555 -0.13446668  0.00872812  0.18503609]\n",
      "Model Intercept:  2.728264676048403\n"
     ]
    }
   ],
   "source": [
    "def mlr_train(Xtrain, Ytrain):\n",
    "    \n",
    "    x_transpose = np.transpose(X_train)   #calculating transpose\n",
    "    x_transpose_x = x_transpose.dot(X_train)  # calculating dot product\n",
    "    x_transpose_y = x_transpose.dot(Y_train)\n",
    "    \n",
    "    return gauss(x_transpose_x,x_transpose_y)\n",
    "    \n",
    "def mlr_predict(Xtest, w):\n",
    "    return np.dot(Xtest,w) \n",
    "\n",
    "w = mlr_train(X_train, Y_train)\n",
    "\n",
    "print('Regression coefficients: ', w[:-1])\n",
    "print('Model Intercept: ', w[-1])"
   ]
  },
  {
   "cell_type": "markdown",
   "metadata": {},
   "source": [
    "**(c)** Sanity check: compare your model to the one produced by sklearn's LinearRegression()"
   ]
  },
  {
   "cell_type": "code",
   "execution_count": 36,
   "metadata": {},
   "outputs": [
    {
     "name": "stdout",
     "output_type": "stream",
     "text": [
      "Regression coefficients:  [ 0.37378487  0.26373555 -0.13446668  0.00872812  0.18503609]\n",
      "Model intercept: 2.728264676048405\n"
     ]
    }
   ],
   "source": [
    "from sklearn import linear_model\n",
    "\n",
    "# Create linear regression object\n",
    "regr = linear_model.LinearRegression()\n",
    "\n",
    "# Fit regression model to data\n",
    "regr.fit(X_train, Y_train)\n",
    "\n",
    "print('Regression coefficients: ', regr.coef_[:-1])\n",
    "print('Model intercept:', regr.intercept_)"
   ]
  },
  {
   "cell_type": "markdown",
   "metadata": {},
   "source": [
    "**Step 5:** Apply the regression model to test data and compute its root mean square error."
   ]
  },
  {
   "cell_type": "code",
   "execution_count": 37,
   "metadata": {},
   "outputs": [
    {
     "data": {
      "text/plain": [
       "Text(0, 0.5, 'Predicted number of cases')"
      ]
     },
     "execution_count": 37,
     "metadata": {},
     "output_type": "execute_result"
    },
    {
     "data": {
      "image/png": "[encoded data removed]",
      "text/plain": [
       "<Figure size 432x288 with 1 Axes>"
      ]
     },
     "metadata": {
      "needs_background": "light"
     },
     "output_type": "display_data"
    }
   ],
   "source": [
    "import matplotlib.pyplot as plt\n",
    "%matplotlib inline\n",
    "\n",
    "Y_pred = mlr_predict( X_test, w )\n",
    "\n",
    "plt.scatter(Y_test,Y_pred,color='black')\n",
    "plt.xlabel('Actual number of cases')\n",
    "plt.ylabel('Predicted number of cases')"
   ]
  },
  {
   "cell_type": "code",
   "execution_count": 38,
   "metadata": {},
   "outputs": [
    {
     "name": "stdout",
     "output_type": "stream",
     "text": [
      "Root mean-square error: 5.091704165554276\n"
     ]
    }
   ],
   "source": [
    "print('Root mean-square error:',np.sqrt(np.sum((Y_pred - Y_test)**2)/Y_pred.shape[0]))"
   ]
  },
  {
   "cell_type": "markdown",
   "metadata": {},
   "source": [
    "**NOTE:** The answers here may vary slightly from one machine to another depending on how the data is divided into training and test sets. "
   ]
  }
 ],
 "metadata": {
  "kernelspec": {
   "display_name": "Python 3",
   "language": "python",
   "name": "python3"
  },
  "language_info": {
   "codemirror_mode": {
    "name": "ipython",
    "version": 3
   },
   "file_extension": ".py",
   "mimetype": "text/x-python",
   "name": "python",
   "nbconvert_exporter": "python",
   "pygments_lexer": "ipython3",
   "version": "3.8.3"
  }
 },
 "nbformat": 4,
 "nbformat_minor": 2
}
